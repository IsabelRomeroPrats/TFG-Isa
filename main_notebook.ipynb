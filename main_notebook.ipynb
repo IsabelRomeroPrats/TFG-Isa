{
 "cells": [
  {
   "cell_type": "markdown",
   "metadata": {},
   "source": [
    "# PCB Thermography Analysis Program\n",
    "### Objective\n",
    "This program is designed to process PCB thermography images (both radiometric `.tif` and non-radiometric `.jpg`/`.png` formats). The workflow involves:\n",
    "1. Loading and displaying the thermography image.\n",
    "2. Selecting and centering the PCB by defining the corners.\n",
    "3. Defining an emissivity matrix for the PCB.\n",
    "4. Calibrating the image based on emissivity and temperature data.\n",
    "\n",
    "The program adapts to both `.tif` (radiometric) images and non-radiometric RGB images (`.jpg`, `.png`).\n",
    "\n",
    "---\n"
   ]
  },
  {
   "cell_type": "code",
   "execution_count": null,
   "metadata": {},
   "outputs": [],
   "source": [
    "# Import necessary modules for automatic reloading of modified modules\n",
    "%load_ext autoreload\n",
    "%autoreload 2\n",
    "\n",
    "import matplotlib.pyplot as plt\n",
    "import cv2\n",
    "import numpy as np\n",
    "import os\n",
    "\n",
    "# Import custom image processing functions\n",
    "from image_processing import load_and_display_image, select_corners_jpg, select_corners_tif\n",
    "import emissivity_processing as ep\n",
    "import calibration_processing as cp\n",
    "\n",
    "# Ask the user to input the image file name (with extension)\n",
    "image_name = input(\"Please enter the image name with extension (e.g., image.jpg or image.tif): \")\n",
    "\n",
    "# Load and display the image\n",
    "image = load_and_display_image(image_name)\n",
    "\n",
    "# Check if the image was loaded successfully\n",
    "if image is not None:\n",
    "    print(f\"Image {image_name} loaded and displayed successfully.\")\n",
    "else:\n",
    "    print(f\"Failed to load the image {image_name}.\")\n"
   ]
  },
  {
   "cell_type": "markdown",
   "metadata": {},
   "source": [
    "## Processing the image"
   ]
  },
  {
   "cell_type": "code",
   "execution_count": null,
   "metadata": {},
   "outputs": [],
   "source": [
    "# Define the full image path\n",
    "image_path = os.path.join(\"Images\", image_name)\n",
    "\n",
    "# Check the image extension (.jpg/.png or .tif)\n",
    "extension = image_name.split('.')[-1].lower()\n",
    "\n",
    "# Flag to indicate if processing a .tif file\n",
    "is_tif = False\n",
    "\n",
    "if extension in ['jpg', 'png']:\n",
    "    # If the file is .jpg or .png, select corners, align the image, and calculate the RGB temperature matrix\n",
    "    aligned_image_jpg, temperature_matrix_jpg, corners = select_corners_jpg(cv2.imread(image_path))\n",
    "    \n",
    "    # Print a portion of the RGB matrix to ensure it's not grayscale\n",
    "    print(\"Sample of the RGB temperature matrix from the JPG image:\")\n",
    "    print(temperature_matrix_jpg[:5, :5, :])  # Print the first 5x5 elements of the RGB matrix\n",
    "\n",
    "elif extension == 'tif':\n",
    "    # If the file is .tif, set the flag to skip RGB processing\n",
    "    is_tif = True\n",
    "\n",
    "    # Generate a temporary .jpg for corner selection\n",
    "    temp_png_path = \"Images/temp_image.png\"\n",
    "    aligned_visual_tif, aligned_radiometric_data = select_corners_tif(image_path, cv2.imread(image_path, cv2.IMREAD_UNCHANGED), temp_png_path)\n",
    "\n",
    "    print(\"TIF image aligned and transformed.\")\n",
    "\n",
    "    # Display the heatmap of the radiometric data with a proper temperature scale\n",
    "    plt.imshow(aligned_radiometric_data, cmap='hot')\n",
    "    plt.colorbar(label=\"Temperature (°C)\")\n",
    "    plt.title(\"Heatmap of Aligned Radiometric Data (°C)\")\n",
    "    plt.axis('off')\n",
    "    plt.show()\n",
    "\n",
    "else:\n",
    "    # Notify the user if the file format is unsupported\n",
    "    print(\"Unsupported file format. Only .jpg, .png, and .tif are supported.\")\n"
   ]
  },
  {
   "cell_type": "markdown",
   "metadata": {},
   "source": [
    "## Calibrating emissivity\n"
   ]
  },
  {
   "cell_type": "code",
   "execution_count": null,
   "metadata": {},
   "outputs": [],
   "source": [
    "# Ask the user for the base emissivity value\n",
    "base_emissivity = float(input(\"Enter the base emissivity value for the PCB: \"))\n",
    "\n",
    "# Process emissivity based on the image type\n",
    "if extension in ['jpg', 'png']:\n",
    "    emissivity_matrix = ep.process_emissivity(aligned_image_jpg, base_emissivity)\n",
    "elif extension == 'tif':\n",
    "    emissivity_matrix = ep.process_emissivity(aligned_visual_tif, base_emissivity)\n"
   ]
  },
  {
   "cell_type": "markdown",
   "metadata": {},
   "source": [
    "## Calibrating final temperature heatmap"
   ]
  },
  {
   "cell_type": "code",
   "execution_count": null,
   "metadata": {},
   "outputs": [],
   "source": [
    "m, n = 20, 15  # Define the grid size\n",
    "\n",
    "if extension == 'jpg':\n",
    "    # Perform temperature calibration for .jpg images (initially using the RGB-based heatmap)\n",
    "    calibrated_temperature_matrix = cp.calibrate_temperature('jpg', aligned_image_jpg, temperature_matrix_jpg, emissivity_matrix, m, n)\n",
    "\n",
    "elif extension == 'tif':\n",
    "    # Perform temperature calibration for .tif images\n",
    "    calibrated_temperature_matrix = cp.calibrate_temperature('tif', aligned_radiometric_data, aligned_radiometric_data, emissivity_matrix, m, n)\n",
    "\n",
    "# Visualize the calibrated temperature matrix (heatmap)\n",
    "cp.visualize_temperature_matrix(calibrated_temperature_matrix)\n"
   ]
  },
  {
   "cell_type": "markdown",
   "metadata": {},
   "source": [
    "## Conclusion\n",
    "\n",
    "In this notebook, we successfully loaded and processed thermal images in both .jpg and .tif formats. We applied corner selection, image alignment, emissivity calibration, and temperature matrix visualization. This workflow provides an efficient method to analyze thermographic data with proper calibration and visualization tools.\n",
    "\n",
    "Next steps include refining the image processing and calibration methods to enhance accuracy and performance for various image types.\n"
   ]
  }
 ],
 "metadata": {
  "kernelspec": {
   "display_name": "base",
   "language": "python",
   "name": "python3"
  },
  "language_info": {
   "codemirror_mode": {
    "name": "ipython",
    "version": 3
   },
   "file_extension": ".py",
   "mimetype": "text/x-python",
   "name": "python",
   "nbconvert_exporter": "python",
   "pygments_lexer": "ipython3",
   "version": "3.12.4"
  }
 },
 "nbformat": 4,
 "nbformat_minor": 2
}
